{
 "cells": [
  {
   "cell_type": "markdown",
   "metadata": {},
   "source": [
    "**Задание 1.** Напишите функцию, которая принимает на вход строку и проверяет является ли она валидным транспортным номером. Если да, то функция должна возвращать отдельно номер и регион."
   ]
  },
  {
   "cell_type": "code",
   "execution_count": 9,
   "metadata": {},
   "outputs": [
    {
     "name": "stdout",
     "output_type": "stream",
     "text": [
      "Номер: К010СМ, Регион: 790\n"
     ]
    }
   ],
   "source": [
    "import re\n",
    "\n",
    "def check_vehicle_number(vehicle_number):\n",
    "    regex_number = '^([\\D]+)(\\d+)(\\D+)(\\d+)$'\n",
    "    res_ = re.match(regex_number, vehicle_number)\n",
    "    if res_ == None:\n",
    "        return False       \n",
    "    res = res_.groups()\n",
    "    if not len(res) == 4:\n",
    "        return False\n",
    "    if not re.match(\"^[АВЕКМНОРСТУХ]$\", res[0]):\n",
    "        return False\n",
    "    if not re.match(\"^\\d{3}(?<!000)$\", res[1]):\n",
    "        return False  \n",
    "    if not re.match(\"^[АВЕКМНОРСТУХ]{2}$\", res[2]):\n",
    "        return False\n",
    "    if not re.match(\"^[1-9]{0,1}\\d{2}(?<!00)$\", res[3]):\n",
    "        return False    \n",
    "    else:\n",
    "        print(f'Номер: {res[0]}{res[1]}{res[2]}, Регион: {res[3]}')\n",
    "\n",
    "vehicle_number = 'К010СМ790'\n",
    "\n",
    "check_vehicle_number(vehicle_number)"
   ]
  },
  {
   "cell_type": "markdown",
   "metadata": {},
   "source": [
    "**Задание 2**. Напишите функцию, которая проверяет e-mail адрес на валидность по стандарту RFC822: http://www.w3.org/Protocols/rfc822/. Для этого постарайтесь написать (в крайнем случае найти) самый полный шаблон для проверки e-mail адресов через регулярное выражение. Разберитесь и напишите примеры, какие ваш шаблон может не охватить."
   ]
  },
  {
   "cell_type": "code",
   "execution_count": 26,
   "metadata": {},
   "outputs": [
    {
     "name": "stdout",
     "output_type": "stream",
     "text": [
      "four/two=two@simplemath.com - False\n",
      "\\$A12345@example.com - False\n",
      "!def!xyz%abc@example.com - False\n",
      "valid@email.com - True\n",
      "1987654@ya.ru - True\n",
      "_testtest@mail.ru - False\n",
      "test_test@mail.ru - True\n",
      "testtest_@mail.ru - False\n",
      "testtest@ma_il.ru - True\n",
      "-testtest@mail.ru - False\n",
      "test-test@mail.ru - True\n",
      "testtest-@mail.ru - False\n",
      "testtest@ma-il.ru - True\n",
      "+testtest@mail.ru - False\n",
      "test+test@mail.ru - True\n",
      "testtest+@mail.ru - False\n",
      "testtest@ma+il.ru - False\n",
      "!testtest@mail.ru - False\n",
      "test!test@mail.ru - False\n",
      "testtest!@mail.ru - False\n",
      "testtest@ma!il.ru - False\n",
      "?testtest@mail.ru - False\n",
      "test?test@mail.ru - False\n",
      "testtest?@mail.ru - False\n",
      "testtest@ma?il.ru - False\n"
     ]
    }
   ],
   "source": [
    "import re\n",
    "def check_email(email):\n",
    "    email_check = '^(|(([A-Za-z0-9]+_+)|([A-Za-z0-9]+\\-+)|([A-Za-z0-9]+\\.+)|([A-Za-z0-9]+\\++))*[A-Za-z0-9]+@((\\w+\\-+)|(\\w+\\.))*\\w{1,63}\\.[a-zA-Z]{2,6})$'\n",
    "    if re.match(email_check, email) == None:\n",
    "        return False\n",
    "    else:\n",
    "        return True\n",
    "\n",
    "list_ = ['four/two=two@simplemath.com','\\$A12345@example.com','!def!xyz%abc@example.com',\n",
    "         'valid@email.com', '1987654@ya.ru',\n",
    "         '_testtest@mail.ru', 'test_test@mail.ru', 'testtest_@mail.ru','testtest@ma_il.ru',\n",
    "         '-testtest@mail.ru', 'test-test@mail.ru', 'testtest-@mail.ru','testtest@ma-il.ru',\n",
    "         '+testtest@mail.ru', 'test+test@mail.ru', 'testtest+@mail.ru','testtest@ma+il.ru',      \n",
    "         '!testtest@mail.ru', 'test!test@mail.ru', 'testtest!@mail.ru','testtest@ma!il.ru',\n",
    "         '?testtest@mail.ru', 'test?test@mail.ru', 'testtest?@mail.ru','testtest@ma?il.ru'    \n",
    "        ]\n",
    "for email in list_:\n",
    "    print(f'{email} - {check_email(email)}')"
   ]
  },
  {
   "cell_type": "markdown",
   "metadata": {},
   "source": [
    "**Задание 3.** Напишите функцию, которая будет удалять все последовательные повторы слов из заданной строки при помощи регулярных выражений."
   ]
  },
  {
   "cell_type": "code",
   "execution_count": 84,
   "metadata": {},
   "outputs": [
    {
     "name": "stdout",
     "output_type": "stream",
     "text": [
      "spam eggs hello     world\n"
     ]
    }
   ],
   "source": [
    "import re\n",
    "\n",
    "string_ = 'spam spam eggs hello hello     world world world world'\n",
    "\n",
    "def make_unique1(string):\n",
    "    pattern = '(\\\\w+)(?:\\\\s+\\\\1)+'\n",
    "    res = re.sub(pattern, r'\\1', string_)\n",
    "    print(res)\n",
    "\n",
    "make_unique1(string_)"
   ]
  },
  {
   "cell_type": "code",
   "execution_count": 80,
   "metadata": {},
   "outputs": [
    {
     "name": "stdout",
     "output_type": "stream",
     "text": [
      "spam eggs hello world\n"
     ]
    }
   ],
   "source": [
    "import re\n",
    "\n",
    "string_ = 'spam spam eggs hello hello     world world world world'\n",
    "\n",
    "def make_unique2(string):\n",
    "    res = re.sub(r'([^\\W\\d_]+)(\\s+\\1)+', r'\\1', re.sub(r'\\W+', ' ', string_).strip(), flags=re.I) \n",
    "    print(res)\n",
    "\n",
    "make_unique2(string_)"
   ]
  },
  {
   "cell_type": "markdown",
   "metadata": {},
   "source": [
    "- re.sub(r'\\W+', ' ', s).strip() - заменяет 1 и более символов, отличных от букв, цифр и знаков подчёркивания, на один пробел, .strip() удалит пробелы в начале и конце строки\n",
    "\n",
    "- re.sub(r'\\b([^\\W\\d_]+)(\\s+\\1)+\\b', r'\\1', ..., flags=re.I):\n",
    "- \\b([^\\W\\d_]+)(\\s+\\1)+\\b - находит и захватывает в подмаску №1 слово (последовательность 1 и более букв в границах слова), после которого следует 1 и более повторов 1+ пробельных символов и такое же слово (\\1 - обратная ссылка на значение подмаски №1), за которыми следует граница слова\n",
    "- r'\\1' - заменяет найденное совпадение единичным экземпляром найденного слова (значение подмаски №1)\n",
    "- flags=re.I - включает регистронезависимый поиск текста"
   ]
  },
  {
   "cell_type": "markdown",
   "metadata": {},
   "source": [
    "**Задание 4**. Напишите функцию, которая будет проверять номер сотового телефона на валидность, если он валиден, то переводить его в формат:   \n",
    "+7(xxx)-xxx-xx-xx  \n",
    "Постарайтесь предусмотреть как можно больше адекватных форматов изначального ввода номера.\n",
    "Примеры валидных форматов:\n",
    "- +7 955 555-55-55;\n",
    "- 9555555555;\n",
    "- 8(955)555-55-55;\n",
    "- +7 955 555 55 55;\n",
    "- 7(955) 555-55-55;\n",
    "- +7 955+555+55+55."
   ]
  },
  {
   "cell_type": "code",
   "execution_count": 119,
   "metadata": {},
   "outputs": [
    {
     "name": "stdout",
     "output_type": "stream",
     "text": [
      "+7(955)-555-55-55 - +7 955 555-55-55\n",
      "+7(955)-555-55-55 - 9555555555\n",
      "+7(955)-555-55-55 - 8(955)555-55-55\n",
      "+7(955)-555-55-55 - +7 955 555 55 55\n",
      "+7(955)-555-55-55 - 7(955) 555-55-55\n",
      "+7(955)-555-55-55 - +7 955+555+55+55\n",
      "False - +9 955+555+55+55\n"
     ]
    }
   ],
   "source": [
    "import re\n",
    "\n",
    "list_ = ['+7 955 555-55-55','9555555555','8(955)555-55-55','+7 955 555 55 55',\n",
    "         '7(955) 555-55-55','+7 955+555+55+55','+9 955+555+55+55']\n",
    "\n",
    "def check_phone_number(phone_number):\n",
    "    regex_number = '^(\\+?[78]?)[-)(+ ]?(\\d{3})[-)(+ ]{0,2}(\\d{3})[-+ ]?(\\d{2})[-+ ]?(\\d{2})$'\n",
    "    res_ = re.match(regex_number, phone_number)\n",
    "    if res_ == None:\n",
    "        return False       \n",
    "    res = res_.groups()\n",
    "    if len(res) != 5:\n",
    "        return False\n",
    "    if len(res[1]) != 3:\n",
    "        return False  \n",
    "    if len(res[2]) != 3:\n",
    "        return False  \n",
    "    if len(res[3]) != 2:\n",
    "        return False\n",
    "    if len(res[4]) != 2:\n",
    "        return False\n",
    "\n",
    "#    +7(xxx)-xxx-xx-xx   \n",
    "    return f'+7({res[1]})-{res[2]}-{res[3]}-{res[4]}'\n",
    "    \n",
    "for phone_number in list_:\n",
    "    print(f'{check_phone_number(phone_number)} - {phone_number}')"
   ]
  },
  {
   "cell_type": "code",
   "execution_count": null,
   "metadata": {},
   "outputs": [],
   "source": []
  }
 ],
 "metadata": {
  "kernelspec": {
   "display_name": "Python 3",
   "language": "python",
   "name": "python3"
  },
  "language_info": {
   "codemirror_mode": {
    "name": "ipython",
    "version": 3
   },
   "file_extension": ".py",
   "mimetype": "text/x-python",
   "name": "python",
   "nbconvert_exporter": "python",
   "pygments_lexer": "ipython3",
   "version": "3.7.4"
  }
 },
 "nbformat": 4,
 "nbformat_minor": 2
}
