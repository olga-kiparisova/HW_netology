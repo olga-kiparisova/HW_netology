{
 "cells": [
  {
   "cell_type": "code",
   "execution_count": 10,
   "metadata": {},
   "outputs": [
    {
     "name": "stdout",
     "output_type": "stream",
     "text": [
      "1. В строке 250 символов (исключая пробелы).\n",
      "2. В строке 61 слово\n"
     ]
    }
   ],
   "source": [
    "#1.Посчитайте, сколько в строке символов (исключая пробелы).\n",
    "#2.Посчитайте, сколько в строке слов.\n",
    "#3.Напишите функцию, которая будет принимать в качестве аргумента букву и выводить все слова из строки,\n",
    "# заканчивающиеся на эту букву (например, “s”).\n",
    "#4.Необязательно: Напишите функцию, которая будет принимать в качестве аргумента букву и выводить все слова из строки, \n",
    "# начинающиеся на эту букву(например, “m”).\n",
    "\n",
    "import re\n",
    "\n",
    "string_01 = \"Mama, just killed a man, put a gun against his head, pulled my trigger, now he's dead. Mama, \" \\\n",
    "            \"life had just begun, but now I've gone and thrown it all away. Mama, ooh (any way the wind blows), \" \\\n",
    "            \"didn't mean to make you cry. If I'm not back again this time tomorrow carry on, carry on as if nothing \" \\\n",
    "            \"really matters.\"\n",
    "\n",
    "#1.Посчитайте, сколько в строке символов (исключая пробелы).\n",
    "#print(len(string_01))\n",
    "scount = len(string_01.replace(' ', ''))\n",
    "print(f'1. В строке {scount} символов (исключая пробелы).')\n",
    "\n",
    "#2.Посчитайте, сколько в строке слов.\n",
    "wcount = len(string_01.split())\n",
    "print(f'2. В строке {wcount} слово')\n",
    "\n"
   ]
  },
  {
   "cell_type": "code",
   "execution_count": 43,
   "metadata": {},
   "outputs": [
    {
     "name": "stdout",
     "output_type": "stream",
     "text": [
      "3. Слова, заканчивающиеся на Вашу букву: ['his', 'blows', 'this', 'as', 'matters']\n"
     ]
    }
   ],
   "source": [
    "#3.Напишите функцию, которая будет принимать в качестве аргумента букву и выводить все слова из строки,\n",
    "# заканчивающиеся на эту букву (например, “s”).\n",
    "#letter = 's'\n",
    "\n",
    "def ends_with(letter):\n",
    "    return(re.findall(rf'\\b\\w+{letter}\\b', string_01))\n",
    "\n",
    "answer = ends_with('s')\n",
    "print(f'3. Слова, заканчивающиеся на Вашу букву: {answer}')"
   ]
  },
  {
   "cell_type": "code",
   "execution_count": 66,
   "metadata": {},
   "outputs": [
    {
     "name": "stdout",
     "output_type": "stream",
     "text": [
      "4. Слова, начинающиеся на Вашу букву: ['mama', 'man', 'my', 'mama', 'mama', 'mean', 'make', 'matters']\n"
     ]
    }
   ],
   "source": [
    "#4.Необязательно: Напишите функцию, которая будет принимать в качестве аргумента букву и выводить все слова из строки, \n",
    "# начинающиеся на эту букву(например, “m”).\n",
    "\n",
    "def begins_with(letter):\n",
    "    s = string_01.lower().replace(',', '').replace('.', '').replace(')', '')\n",
    "    list_ = []\n",
    "    for i in s.split():\n",
    "        if i.startswith(letter):\n",
    "            list_.append(i)\n",
    "    return(list_)\n",
    "\n",
    "answer = begins_with('m')\n",
    "print(f'4. Слова, начинающиеся на Вашу букву: {answer}')"
   ]
  },
  {
   "cell_type": "code",
   "execution_count": 107,
   "metadata": {},
   "outputs": [
    {
     "name": "stdout",
     "output_type": "stream",
     "text": [
      "254013\n"
     ]
    }
   ],
   "source": [
    "#Задача 2 Напишите код, который будет генерировать случайную последовательность из 6 цифр, одна из которых должна быть 3.\n",
    "# Позиция цифры 3 должна определяться случайным образом. Результат должен быть строкой. Например: \"456309\" или \"330127\".\n",
    "import random\n",
    "#from random import randint\n",
    "s = list('000000')\n",
    "#print(list('000000'))\n",
    "pos = random.randrange(0, 6)\n",
    "s[pos] = '3'\n",
    "for i in range(0,6):\n",
    "    if s[i] == '0':\n",
    "        s[i] = f\"{random.randrange(0, 6)}\"\n",
    "print(\"\".join(s))"
   ]
  },
  {
   "cell_type": "code",
   "execution_count": 73,
   "metadata": {},
   "outputs": [],
   "source": [
    "list_01 = [1, 1, 2, 3, 5, 8, 13, 21, 34, 55, 89, 144, 233, 377, 610]"
   ]
  },
  {
   "cell_type": "code",
   "execution_count": 4,
   "metadata": {},
   "outputs": [],
   "source": [
    "students = [\n",
    "    [\"0001\", \"Антонов\", \"Антон\", \"Игоревич\", \"20.08.2009\", \"БСТ161\"],\n",
    "    [\"1102\", \"Богов\", \"Артем\", \"Игоревич\", \"25.01.2010\", \"БСТ162\"],\n",
    "    [\"0333\", \"Глаголева\", \"Анастасия\", \"Николаевна\", \"11.07.2009\", \"БСТ163\"],\n",
    "    [\"4004\", \"Степанова\", \"Наталья\", \"Александровна\", \"13.02.2008\", \"БСТ161\"],\n",
    "    [\"0045\", \"Боков\", \"Игорь\", \"Харитонович\", \"02.06.2009\", \"БСТ161\"],\n",
    "    [\"0096\", \"Васильков\", \"Валентин\", \"Сергеевич\", \"20.03.2009\", \"БСТ164\"],\n",
    "    [\"0607\", \"Сиропова\", \"Виолетта\", \"Эдуардовна\", \"28.05.2010\", \"БСТ162\"],\n",
    "    [\"0309\", \"Шафутинский\", \"Михаил\", \"Михайлович\", \"03.09.2007\", \"БСТ163\"]\n",
    "            ]"
   ]
  },
  {
   "cell_type": "code",
   "execution_count": 5,
   "metadata": {},
   "outputs": [],
   "source": [
    "matrix = [\n",
    "    [0, 1, 2, 4, 8],\n",
    "    [6, 2, 2, 1, 9],\n",
    "    [3, 3, 3, 3, 3],\n",
    "    [4, 6, 7, 1, 2],\n",
    "    [5, 7, 3, 4, 0]\n",
    "        ]"
   ]
  }
 ],
 "metadata": {
  "kernelspec": {
   "display_name": "Python 3",
   "language": "python",
   "name": "python3"
  },
  "language_info": {
   "codemirror_mode": {
    "name": "ipython",
    "version": 3
   },
   "file_extension": ".py",
   "mimetype": "text/x-python",
   "name": "python",
   "nbconvert_exporter": "python",
   "pygments_lexer": "ipython3",
   "version": "3.7.4"
  }
 },
 "nbformat": 4,
 "nbformat_minor": 4
}
