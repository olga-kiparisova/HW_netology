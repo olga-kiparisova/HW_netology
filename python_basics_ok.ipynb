{
 "cells": [
  {
   "cell_type": "markdown",
   "metadata": {},
   "source": [
    "**Задание 1**. Даны 2 строки: *long_phrase* и *short_phrase*. \n",
    "Напишите код, который проверяет действительно ли длинная фраза *long_phrase* длиннее короткой *short_phrase*. И выводит *True* или *False* в зависимости от результата сравнения."
   ]
  },
  {
   "cell_type": "code",
   "execution_count": 1,
   "metadata": {},
   "outputs": [],
   "source": [
    "long_phrase = 'Насколько проще было бы писать программы, если бы не заказчики'\n",
    "short_phrase = '640Кб должно хватить для любых задач. Билл Гейтс (по легенде)'"
   ]
  },
  {
   "cell_type": "code",
   "execution_count": 2,
   "metadata": {},
   "outputs": [
    {
     "name": "stdout",
     "output_type": "stream",
     "text": [
      "True\n"
     ]
    }
   ],
   "source": [
    "print(len(long_phrase) > len(short_phrase))"
   ]
  },
  {
   "cell_type": "markdown",
   "metadata": {},
   "source": [
    "**Задание 2**. Дано значение объема файла в байтах (*В мегабайте 2^20 байт*). Напишите перевод этого значения в мегабайты в формате: \"*Объем файла равен 213.68Mb*\"."
   ]
  },
  {
   "cell_type": "code",
   "execution_count": 3,
   "metadata": {},
   "outputs": [
    {
     "name": "stdout",
     "output_type": "stream",
     "text": [
      "Объем файла равен 213.68Mb\n"
     ]
    },
    {
     "data": {
      "text/markdown": [
       "*Объем файла равен 213.68Mb*"
      ],
      "text/plain": [
       "<IPython.core.display.Markdown object>"
      ]
     },
     "metadata": {},
     "output_type": "display_data"
    },
    {
     "data": {
      "text/markdown": [
       "*Объем файла равен 213.68Mb*"
      ],
      "text/plain": [
       "<IPython.core.display.Markdown object>"
      ]
     },
     "metadata": {},
     "output_type": "display_data"
    }
   ],
   "source": [
    "from IPython.display import Markdown, display\n",
    "def printmd(string):\n",
    "    display(Markdown(string))\n",
    "\n",
    "# byte = int(input('Введите значение в байтах: '))\n",
    "byte = 213.68 * 2**20 # Данное значение объема файла в байтах \n",
    "file_volume = byte / 2**20\n",
    "\n",
    "print('Объем файла равен ', file_volume, 'Mb', sep ='')\n",
    "printmd(f'*Объем файла равен {file_volume}Mb*')\n",
    "printmd('*Объем файла равен ' + str(file_volume) + 'Mb*')"
   ]
  },
  {
   "cell_type": "markdown",
   "metadata": {},
   "source": [
    "**Задание 3**. Разработать приложение для определения знака зодиака по дате рождения. Пример:\n",
    "\n",
    "Введите месяц: март\n",
    "\n",
    "Введите число: 6\n",
    "\n",
    "Вывод:\n",
    "Рыбы"
   ]
  },
  {
   "cell_type": "code",
   "execution_count": 4,
   "metadata": {},
   "outputs": [
    {
     "name": "stdout",
     "output_type": "stream",
     "text": [
      "Узнайте свой знак зодиака по дате рождения\n",
      "Введите месяц (например, март): март\n",
      "Введите дату (например, 31): 6\n",
      "Ваш знак - Рыбы\n"
     ]
    }
   ],
   "source": [
    "# Знак Период\n",
    "# Овен 21 марта-20 апреля\n",
    "# Телец 21 апреля-21 мая\n",
    "# Близнецы 22 мая-21 июня\n",
    "# Рак 22 июня-22 июля\n",
    "# Лев 23 июля-22 августа\n",
    "# Дева 23 августа-22 сентября\n",
    "# Весы 23 сентября-22 октября\n",
    "# Скорпион 23 октября-22 ноября\n",
    "# Стрелец 23 ноября-21 декабря\n",
    "# Козерог 22 декабря-20 января\n",
    "# Водолей 21 января-19 февраля\n",
    "# Рыбы 20 февраля-20 марта\n",
    "print('Узнайте свой знак зодиака по дате рождения')\n",
    "m = str(input('Введите месяц (например, март): '))\n",
    "d = int(input('Введите дату (например, 31): '))\n",
    "if (str.lower(m)=='январь' and (21 <= d <= 31)) or (str.lower(m)=='февраль' and (1 <= d <= 19)):\n",
    " print('Ваш знак - Водолей')\n",
    "elif (str.lower(m)=='февраль' and (20 <= d <= 29)) or (str.lower(m)=='март' and (1 <= d <= 20)):\n",
    " print('Ваш знак - Рыбы')\n",
    "elif (str.lower(m)=='март' and (21 <= d <= 31)) or (str.lower(m)=='апрель' and (1 <= d <= 20)):\n",
    " print('Ваш знак - Овен')\n",
    "elif (str.lower(m)=='апрель' and (21 <= d <= 30)) or (str.lower(m)=='май' and (1 <= d <= 21)):\n",
    " print('Ваш знак - Телец')\n",
    "elif (str.lower(m)=='май' and (22 <= d <= 31)) or (str.lower(m)=='июнь' and (1 <= d <= 21)):\n",
    " print('Ваш знак - Близнецы')\n",
    "elif (str.lower(m)=='июнь' and (22 <= d <= 30)) or (str.lower(m)=='июль' and (1 <= d <= 22)):\n",
    " print('Ваш знак - Рак')\n",
    "elif (str.lower(m)=='июль' and (23 <= d <= 31)) or (str.lower(m)=='август' and (1 <= d <= 22)):\n",
    " print('Ваш знак - Лев')\n",
    "elif (str.lower(m)=='август' and (23 <= d <= 31)) or (str.lower(m)=='сентябрь' and (1 <= d <= 22)):\n",
    " print('Ваш знак - Дева')\n",
    "elif (str.lower(m)=='сентябрь' and (23 <= d <= 30)) or (str.lower(m)=='октябрь' and (1 <= d <= 22)):\n",
    " print('Ваш знак - Весы')\n",
    "elif (str.lower(m)=='октябрь' and (23 <= d <= 31)) or (str.lower(m)=='ноябрь' and (1 <= d <= 22)):\n",
    " print('Ваш знак - Скорпион')\n",
    "elif (str.lower(m)=='ноябрь' and (23 <= d <= 30)) or (str.lower(m)=='декабрь' and (1 <= d <= 21)):\n",
    " print('Ваш знак - Стрелец')\n",
    "elif (str.lower(m)=='декабрь' and (22 <= d <= 31)) or (str.lower(m)=='январь' and (1 <= d <= 20)):\n",
    " print('Ваш знак - Козерог')\n",
    "else:\n",
    " print('Вы ошиблись при вводе числа или месяца, попробуйте ещё раз')"
   ]
  },
  {
   "cell_type": "markdown",
   "metadata": {},
   "source": [
    "**Задание 4**. Нужно разработать приложение для финансового планирования.\n",
    "Приложение учитывает сколько уходит на ипотеку, \"на жизнь\" и сколько нужно отложить на пенсию.\n",
    "Пользователь вводит:\n",
    "- заработанную плату в месяц.\n",
    "- сколько процентов от ЗП уходит на ипотеку.\n",
    "- сколько процентов от ЗП уходит \"на жизнь\".\n",
    "- сколько раз приходит премия в год.\n",
    "\n",
    "Остальная часть заработанной платы откладывается на пенсию.\n",
    "\n",
    "Также пользователю приходит премия в размере зарплаты, от которой половина уходит на отпуск, а вторая половина откладывается.\n",
    "\n",
    "Программа должна учитывать сколько премий было в год.\n",
    "\n",
    "Нужно вывести сколько денег тратит пользователь на ипотеку и сколько он накопит за год.\n",
    "\n",
    "Пример:\n",
    "\n",
    "Введите заработанную плату в месяц: 100000\n",
    "\n",
    "Введите сколько процентов уходит на ипотеку: 30\n",
    "\n",
    "Введите сколько процентов уходит на жизнь: 50\n",
    "\n",
    "Введите количество премий за год: 2\n",
    "\n",
    "Вывод:\n",
    "На ипотеку было потрачено: 360000 рублей\n",
    "Было накоплено: 340000 рублей"
   ]
  },
  {
   "cell_type": "code",
   "execution_count": 5,
   "metadata": {},
   "outputs": [
    {
     "name": "stdout",
     "output_type": "stream",
     "text": [
      "Узнайте, сколько Вы накопили за год, и сколько ушло на ипотеку.\n",
      "Введите размер заработанной платы в месяц (например, 100000): 100000\n",
      "Введите процент от ЗП, который уходит на ипотеку (например, 30): 30\n",
      "Введите процент от ЗП, который уходит \"на жизнь\" (например, 50): 50\n",
      "Введите количество полученных за год бонусов (например, 2): 2\n",
      "Вывод: На ипотеку было потрачено: 360000 рублей Было накоплено: 340000 рублей\n"
     ]
    }
   ],
   "source": [
    "print('Узнайте, сколько Вы накопили за год, и сколько ушло на ипотеку.')\n",
    "salary = float(input('Введите размер заработанной платы в месяц (например, 100000): '))\n",
    "mortgage_rate = float(input('Введите процент от ЗП, который уходит на ипотеку (например, 30): '))\n",
    "life_rate = float(input('Введите процент от ЗП, который уходит \"на жизнь\" (например, 50): '))\n",
    "bonus_count = int(input('Введите количество полученных за год бонусов (например, 2): '))\n",
    "\n",
    "sy = salary * 12 # annual salary (salary per year)\n",
    "my = int(sy * (mortgage_rate / 100)) # annual mortgage\n",
    "ly = sy * (life_rate / 100) # annual cost of living\n",
    "by = salary * bonus_count # annual bonus\n",
    "#vacation = by * 0.5\n",
    "py = int(sy - my - ly + (by * 0.5)) # annual pension\n",
    "\n",
    "print('Вывод: На ипотеку было потрачено:', my,'рублей Было накоплено:', py,'рублей')"
   ]
  },
  {
   "cell_type": "code",
   "execution_count": null,
   "metadata": {},
   "outputs": [],
   "source": []
  }
 ],
 "metadata": {
  "kernelspec": {
   "display_name": "Python 3",
   "language": "python",
   "name": "python3"
  },
  "language_info": {
   "codemirror_mode": {
    "name": "ipython",
    "version": 3
   },
   "file_extension": ".py",
   "mimetype": "text/x-python",
   "name": "python",
   "nbconvert_exporter": "python",
   "pygments_lexer": "ipython3",
   "version": "3.7.4"
  }
 },
 "nbformat": 4,
 "nbformat_minor": 2
}
