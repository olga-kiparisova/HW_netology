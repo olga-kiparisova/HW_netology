{
 "cells": [
  {
   "cell_type": "code",
   "execution_count": 1,
   "metadata": {},
   "outputs": [
    {
     "data": {
      "text/plain": [
       "['2020-12-01', '2020-12-02', '2020-12-03', '2020-12-04', '2020-12-05']"
      ]
     },
     "execution_count": 1,
     "metadata": {},
     "output_type": "execute_result"
    }
   ],
   "source": [
    "#Задание 1. Напишите функцию date_range, которая возвращает список дней между датами start_date и end_date.\n",
    "#Даты должны вводиться в формате YYYY-MM-DD.\n",
    "#Задание 2. Дополните функцию из первого задания проверкой на корректность дат.\n",
    "#В случае неверного формата или если start_date > end_date должен возвращаться пустой список.\n",
    "from datetime import datetime\n",
    "from datetime import timedelta\n",
    "\n",
    "def date_range(start_date, end_date):\n",
    "    try: \n",
    "        start_date_dt = datetime.strptime(start_date, '%Y-%m-%d') #2020-12-01 00:00:00\n",
    "        end_date_dt = datetime.strptime(end_date, '%Y-%m-%d')\n",
    "    except:\n",
    "        print('Input error: Bad date format')\n",
    "        return []\n",
    "\n",
    "    list_str = []\n",
    "    while start_date_dt <= end_date_dt:\n",
    "        list_str.append(start_date_dt.strftime('%Y-%m-%d')) #2020-12-01\n",
    "        start_date_dt += timedelta(days=1)\n",
    "    return list_str\n",
    "\n",
    "date_range('2020-12-01', '2020-12-05')"
   ]
  },
  {
   "cell_type": "code",
   "execution_count": 2,
   "metadata": {},
   "outputs": [
    {
     "data": {
      "text/plain": [
       "datetime.datetime"
      ]
     },
     "execution_count": 2,
     "metadata": {},
     "output_type": "execute_result"
    }
   ],
   "source": [
    "date_string = '09.05.2018 09:00'\n",
    "# сейчас date_string это просто строка\n",
    "type(date_string)\n",
    "date_string_1 = datetime.strptime('09.05.2018 09:00', '%d.%m.%Y %H:%M')\n",
    "type(date_string_1)"
   ]
  },
  {
   "cell_type": "code",
   "execution_count": 3,
   "metadata": {},
   "outputs": [
    {
     "name": "stdout",
     "output_type": "stream",
     "text": [
      "[('2018-04-02', True), ('2018-02-29', False), ('2018-19-02', False), ('2020-02-29', True)]\n"
     ]
    }
   ],
   "source": [
    "#Задание 3. Дан поток дат в формате YYYY-MM-DD, в которых встречаются некорректные значения:\n",
    "#stream = [‘2018-04-02’, ‘2018-02-29’, ‘2018-19-02’]\n",
    "\n",
    "#Напишите функцию, которая проверяет эти даты на корректность.\n",
    "#Т.е. для каждой даты возвращает True (дата корректна) или False (некорректная дата).\n",
    "\n",
    "from datetime import datetime\n",
    "def date_check(dates):\n",
    "    list_ = []\n",
    "    for i in dates:\n",
    "        try:\n",
    "            date_ = datetime.strptime(i,'%Y-%m-%d')\n",
    "            list_.append(True)\n",
    "        except:\n",
    "            list_.append(False)\n",
    "    return list_   \n",
    "\n",
    "stream = ['2018-04-02', '2018-02-29', '2018-19-02','2020-02-29']\n",
    "\n",
    "print(list(zip(stream,date_check(stream))))\n"
   ]
  },
  {
   "cell_type": "code",
   "execution_count": 5,
   "metadata": {},
   "outputs": [
    {
     "name": "stdout",
     "output_type": "stream",
     "text": [
      "['A100', 'A101']\n"
     ]
    },
    {
     "data": {
      "text/plain": [
       "'A101'"
      ]
     },
     "execution_count": 5,
     "metadata": {},
     "output_type": "execute_result"
    }
   ],
   "source": [
    "#Задание 4 (бонусное)\n",
    "#Ваш коллега прислал код функции:\n",
    "\n",
    "DEFAULT_USER_COUNT = 3\n",
    "\n",
    "def delete_and_return_last_user(region, default_list=['A100', 'A101', 'A102']):\n",
    "    \"\"\"\n",
    "    Удаляет из списка default_list последнего пользователя и возвращает ID нового последнего пользователя.\n",
    "    \"\"\"\n",
    "    element_to_delete = default_list[-1]\n",
    "    default_list.remove(element_to_delete)\n",
    "#    print(default_list)\n",
    "    return default_list[DEFAULT_USER_COUNT-2]\n",
    "#При однократном вызове этой функции все работает корректно:\n",
    "delete_and_return_last_user(1)\n",
    "#‘A101’\n",
    "\n",
    "#Однако, при повторном вызове получается ошибка IndexError: list index out of range.\n",
    "\n",
    "#Задание:\n",
    "\n",
    "#Что значит ошибка list index out of range?\n",
    "#Почему при первом запуске функция работает корректно, а при втором - нет?"
   ]
  },
  {
   "cell_type": "markdown",
   "metadata": {},
   "source": [
    "При однократном вызове этой функции все работает корректно только в одном случае, когда элементов в default_list будет три, и после удаления последнего пользователя, новым последним становится элемент с индексом 1. Так как DEFAULT_USER_COUNT = 3 - константа, то default_list[DEFAULT_USER_COUNT - 2] всегда возвращает элемент с индексом 1, а не ID нового последнего пользователя, как говорится в описании.\n",
    "Когда список сократится до одного элемента (с индексом 0), мы получим ошибку \"list index out of range\", потому что элемента с индексом 1 в нашем списке больше нет."
   ]
  }
 ],
 "metadata": {
  "kernelspec": {
   "display_name": "Python 3",
   "language": "python",
   "name": "python3"
  },
  "language_info": {
   "codemirror_mode": {
    "name": "ipython",
    "version": 3
   },
   "file_extension": ".py",
   "mimetype": "text/x-python",
   "name": "python",
   "nbconvert_exporter": "python",
   "pygments_lexer": "ipython3",
   "version": "3.7.4"
  }
 },
 "nbformat": 4,
 "nbformat_minor": 2
}
