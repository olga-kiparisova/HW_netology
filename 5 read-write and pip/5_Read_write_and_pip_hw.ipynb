{
 "cells": [
  {
   "cell_type": "markdown",
   "metadata": {},
   "source": [
    "# Домашнее задание\n",
    "1. Переведите содержимое файла purchase_log.txt в словарь purchases вида:\n",
    "```python\n",
    "{'1840e0b9d4': 'Продукты', ...}\n",
    "```\n",
    "\n",
    "2. Для каждого user_id в файле visit_log.csv добавьте третий столбец с категорией покупки (если покупка была).\n",
    "\n",
    "3. Запишите в файл funnel.csv визиты из файла visit_log.csv, в которых были покупки с указанием категории.\n",
    "\n",
    "Учтите условия на данные:\n",
    "- содержимое purchase_log.txt помещается в оперативную память компьютера\n",
    "- содержимое visit_log.csv - нет; используйте только построчную обработку этого файла"
   ]
  },
  {
   "cell_type": "code",
   "execution_count": 22,
   "metadata": {},
   "outputs": [],
   "source": [
    "# 1. Переведите содержимое файла purchase_log.txt в словарь purchases вида: {'1840e0b9d4': 'Продукты', ...}\n",
    "f = open('purchase_log.txt', 'r')\n",
    "import json\n",
    "\n",
    "purch_list = f.readlines()\n",
    "\n",
    "new_dict = {}\n",
    "for i in range(1,len(purch_list)):\n",
    "    x = json.loads(purch_list[i])\n",
    "#    user_id = x[\"user_id\"]\n",
    "#    category = x[\"category\"]\n",
    "    new_dict.update({x[\"user_id\"]: x[\"category\"]})\n",
    "\n",
    "#new_dict"
   ]
  },
  {
   "cell_type": "code",
   "execution_count": 23,
   "metadata": {},
   "outputs": [],
   "source": [
    "#2. Для каждого user_id в файле visit_log.csv добавьте третий столбец с категорией покупки (если покупка была).\n",
    "import csv\n",
    "\n",
    "with open('visit_log.csv','r') as csv_input:\n",
    "    with open('visit_log_new.csv', 'w') as csv_output:\n",
    "        output_ = csv.writer(csv_output, lineterminator='\\n')\n",
    "        input_ = csv.reader(csv_input)\n",
    "\n",
    "        line = next(input_)\n",
    "        line.append('category')\n",
    "        output_.writerow(line)\n",
    "#        i = 0\n",
    "        for line in input_:\n",
    "            user_id = line[0]\n",
    "            if user_id in new_dict.keys():               \n",
    "                line.append(new_dict[user_id])\n",
    "            else:\n",
    "                line.append('')  \n",
    "            output_.writerow(line)\n",
    "#            i += 1\n",
    "#            if i > 100:\n",
    "#                break\n"
   ]
  },
  {
   "cell_type": "code",
   "execution_count": 24,
   "metadata": {},
   "outputs": [],
   "source": [
    "#3. Запишите в файл funnel.csv визиты из файла visit_log.csv, в которых были покупки с указанием категории.\n",
    "with open('visit_log_new.csv','r') as csv_input:\n",
    "    with open('funnel.csv', 'w') as csv_output:\n",
    "        output_ = csv.writer(csv_output, lineterminator='\\n')\n",
    "        input_ = csv.reader(csv_input)\n",
    "\n",
    "        for line in input_:\n",
    "            category = line[2]\n",
    "            if category != '':\n",
    "                output_.writerow(line)    "
   ]
  },
  {
   "cell_type": "code",
   "execution_count": null,
   "metadata": {},
   "outputs": [],
   "source": []
  }
 ],
 "metadata": {
  "kernelspec": {
   "display_name": "Python 3",
   "language": "python",
   "name": "python3"
  },
  "language_info": {
   "codemirror_mode": {
    "name": "ipython",
    "version": 3
   },
   "file_extension": ".py",
   "mimetype": "text/x-python",
   "name": "python",
   "nbconvert_exporter": "python",
   "pygments_lexer": "ipython3",
   "version": "3.7.4"
  }
 },
 "nbformat": 4,
 "nbformat_minor": 2
}
